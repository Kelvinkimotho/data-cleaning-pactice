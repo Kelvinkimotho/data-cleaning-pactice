{
 "cells": [
  {
   "cell_type": "code",
   "execution_count": 5,
   "id": "2f7acee3",
   "metadata": {},
   "outputs": [
    {
     "name": "stdout",
     "output_type": "stream",
     "text": [
      ".ipynb_checkpoints\n",
      "cleaning and analysis.ipynb\n",
      "Sales_April_2019.csv\n",
      "Sales_August_2019.csv\n",
      "Sales_December_2019.csv\n",
      "Sales_February_2019.csv\n",
      "Sales_January_2019.csv\n",
      "Sales_July_2019.csv\n",
      "Sales_June_2019.csv\n",
      "Sales_March_2019.csv\n",
      "Sales_May_2019.csv\n",
      "Sales_November_2019.csv\n",
      "Sales_October_2019.csv\n",
      "Sales_September_2019.csv\n"
     ]
    }
   ],
   "source": [
    "#importing the necesary modules\n",
    "import pandas as pd\n",
    "import numpy as np\n",
    "import os\n",
    "\n",
    "#Bellow is a path to the files location \n",
    "path='C:/Users/kelvin/Desktop/rush'\n",
    "\n",
    "#Bellow is a list of files in the given location\n",
    "\n",
    "files=[file for file in os.listdir(path)]\n",
    "\n",
    "#looping through the above list of files and printing each file in there\n",
    "for file in files:\n",
    "    print(file)"
   ]
  },
  {
   "cell_type": "code",
   "execution_count": 6,
   "id": "9d975828",
   "metadata": {},
   "outputs": [
    {
     "name": "stdout",
     "output_type": "stream",
     "text": [
      "Sales_April_2019.csv\n",
      "Sales_August_2019.csv\n",
      "Sales_December_2019.csv\n",
      "Sales_February_2019.csv\n",
      "Sales_January_2019.csv\n",
      "Sales_July_2019.csv\n",
      "Sales_June_2019.csv\n",
      "Sales_March_2019.csv\n",
      "Sales_May_2019.csv\n",
      "Sales_November_2019.csv\n",
      "Sales_October_2019.csv\n",
      "Sales_September_2019.csv\n"
     ]
    }
   ],
   "source": [
    "#now let's find only CSV files \n",
    "\n",
    "for file in files:\n",
    "    if \".csv\" in file:\n",
    "        print(file)"
   ]
  },
  {
   "cell_type": "code",
   "execution_count": 13,
   "id": "e477bf1a",
   "metadata": {},
   "outputs": [],
   "source": [
    "#lets merge all the csv files so that we can do cleaning easilly\n",
    "\n",
    "all_data=pd.DataFrame()\n",
    "for file in files:\n",
    "    if \".csv\" in file:\n",
    "        df=pd.read_csv(path+\"/\"+file)\n",
    "        all_data=pd.concat([df,all_data])\n",
    "        all_data.to_excel(\"combined sales data.xlsx\",index=False)\n",
    "         "
   ]
  },
  {
   "cell_type": "code",
   "execution_count": 15,
   "id": "70192d6a",
   "metadata": {},
   "outputs": [
    {
     "data": {
      "text/plain": [
       "(186850, 6)"
      ]
     },
     "execution_count": 15,
     "metadata": {},
     "output_type": "execute_result"
    }
   ],
   "source": [
    "#now lets confirm whether merging the data has succeeded\n",
    "data=pd.read_excel('combined sales data.xlsx')\n",
    "data.shape"
   ]
  },
  {
   "cell_type": "code",
   "execution_count": 16,
   "id": "5b7f2d9d",
   "metadata": {},
   "outputs": [
    {
     "data": {
      "text/plain": [
       "(186305, 6)"
      ]
     },
     "execution_count": 16,
     "metadata": {},
     "output_type": "execute_result"
    }
   ],
   "source": [
    "#now we can start cleaning the data \n",
    "#lets drop all rows with NAN data\n",
    "\n",
    "data=data.dropna()\n",
    "data.shape\n",
    "\n",
    "#as observed bellow from the data.shape function, more than 500 rows with NAN data were droped \n",
    "#now let's procced to saving our new  dataset with no NANs"
   ]
  },
  {
   "cell_type": "code",
   "execution_count": 18,
   "id": "d0bd5404",
   "metadata": {},
   "outputs": [],
   "source": [
    "data.to_excel('combined sales data.xlsx',index=False)"
   ]
  },
  {
   "cell_type": "code",
   "execution_count": 20,
   "id": "8ae7defc",
   "metadata": {},
   "outputs": [
    {
     "data": {
      "text/html": [
       "<div>\n",
       "<style scoped>\n",
       "    .dataframe tbody tr th:only-of-type {\n",
       "        vertical-align: middle;\n",
       "    }\n",
       "\n",
       "    .dataframe tbody tr th {\n",
       "        vertical-align: top;\n",
       "    }\n",
       "\n",
       "    .dataframe thead th {\n",
       "        text-align: right;\n",
       "    }\n",
       "</style>\n",
       "<table border=\"1\" class=\"dataframe\">\n",
       "  <thead>\n",
       "    <tr style=\"text-align: right;\">\n",
       "      <th></th>\n",
       "      <th>Order ID</th>\n",
       "      <th>Product</th>\n",
       "      <th>Quantity Ordered</th>\n",
       "      <th>Price Each</th>\n",
       "      <th>Order Date</th>\n",
       "      <th>Purchase Address</th>\n",
       "    </tr>\n",
       "  </thead>\n",
       "  <tbody>\n",
       "    <tr>\n",
       "      <th>186300</th>\n",
       "      <td>194090</td>\n",
       "      <td>Google Phone</td>\n",
       "      <td>1</td>\n",
       "      <td>600</td>\n",
       "      <td>04/08/19 17:11</td>\n",
       "      <td>177 Jackson St, Los Angeles, CA 90001</td>\n",
       "    </tr>\n",
       "    <tr>\n",
       "      <th>186301</th>\n",
       "      <td>194091</td>\n",
       "      <td>AA Batteries (4-pack)</td>\n",
       "      <td>1</td>\n",
       "      <td>3.84</td>\n",
       "      <td>04/15/19 16:02</td>\n",
       "      <td>311 Forest St, Austin, TX 73301</td>\n",
       "    </tr>\n",
       "    <tr>\n",
       "      <th>186302</th>\n",
       "      <td>194092</td>\n",
       "      <td>AAA Batteries (4-pack)</td>\n",
       "      <td>2</td>\n",
       "      <td>2.99</td>\n",
       "      <td>04/28/19 14:36</td>\n",
       "      <td>347 Sunset St, San Francisco, CA 94016</td>\n",
       "    </tr>\n",
       "    <tr>\n",
       "      <th>186303</th>\n",
       "      <td>194093</td>\n",
       "      <td>AA Batteries (4-pack)</td>\n",
       "      <td>1</td>\n",
       "      <td>3.84</td>\n",
       "      <td>04/14/19 15:09</td>\n",
       "      <td>835 Lake St, Portland, OR 97035</td>\n",
       "    </tr>\n",
       "    <tr>\n",
       "      <th>186304</th>\n",
       "      <td>194094</td>\n",
       "      <td>Lightning Charging Cable</td>\n",
       "      <td>1</td>\n",
       "      <td>14.95</td>\n",
       "      <td>04/18/19 11:08</td>\n",
       "      <td>354 North St, Boston, MA 02215</td>\n",
       "    </tr>\n",
       "  </tbody>\n",
       "</table>\n",
       "</div>"
      ],
      "text/plain": [
       "       Order ID                   Product Quantity Ordered Price Each  \\\n",
       "186300   194090              Google Phone                1        600   \n",
       "186301   194091     AA Batteries (4-pack)                1       3.84   \n",
       "186302   194092    AAA Batteries (4-pack)                2       2.99   \n",
       "186303   194093     AA Batteries (4-pack)                1       3.84   \n",
       "186304   194094  Lightning Charging Cable                1      14.95   \n",
       "\n",
       "            Order Date                        Purchase Address  \n",
       "186300  04/08/19 17:11   177 Jackson St, Los Angeles, CA 90001  \n",
       "186301  04/15/19 16:02         311 Forest St, Austin, TX 73301  \n",
       "186302  04/28/19 14:36  347 Sunset St, San Francisco, CA 94016  \n",
       "186303  04/14/19 15:09         835 Lake St, Portland, OR 97035  \n",
       "186304  04/18/19 11:08          354 North St, Boston, MA 02215  "
      ]
     },
     "execution_count": 20,
     "metadata": {},
     "output_type": "execute_result"
    }
   ],
   "source": [
    "df1=pd.read_excel('combined sales data.xlsx')\n",
    "df1.tail()\n",
    "\n",
    "#Bellow is the no Nan dataset tail"
   ]
  },
  {
   "cell_type": "code",
   "execution_count": 27,
   "id": "38d1d665",
   "metadata": {},
   "outputs": [],
   "source": [
    "#let's rename the columns\n",
    "\n",
    "data=pd.read_excel('combined sales data.xlsx')\n",
    "data['order_id']=data['Order ID']\n",
    "data['Quantity_ordered']=data['Quantity Ordered']\n",
    "data['price']=data['Price Each']\n",
    "data['address']=data['Purchase Address']\n",
    "data['order_date']=data['Order Date']\n",
    "data=data.drop(['Order ID','Quantity Ordered','Price Each','Order Date','Purchase Address'],axis=1)\n",
    "data.to_excel('combined sales data.xlsx',index=False)"
   ]
  },
  {
   "cell_type": "code",
   "execution_count": 28,
   "id": "3faec440",
   "metadata": {},
   "outputs": [
    {
     "data": {
      "text/html": [
       "<div>\n",
       "<style scoped>\n",
       "    .dataframe tbody tr th:only-of-type {\n",
       "        vertical-align: middle;\n",
       "    }\n",
       "\n",
       "    .dataframe tbody tr th {\n",
       "        vertical-align: top;\n",
       "    }\n",
       "\n",
       "    .dataframe thead th {\n",
       "        text-align: right;\n",
       "    }\n",
       "</style>\n",
       "<table border=\"1\" class=\"dataframe\">\n",
       "  <thead>\n",
       "    <tr style=\"text-align: right;\">\n",
       "      <th></th>\n",
       "      <th>Product</th>\n",
       "      <th>order_id</th>\n",
       "      <th>Quantity_ordered</th>\n",
       "      <th>price</th>\n",
       "      <th>address</th>\n",
       "      <th>order_date</th>\n",
       "    </tr>\n",
       "  </thead>\n",
       "  <tbody>\n",
       "    <tr>\n",
       "      <th>0</th>\n",
       "      <td>AA Batteries (4-pack)</td>\n",
       "      <td>248151</td>\n",
       "      <td>4</td>\n",
       "      <td>3.84</td>\n",
       "      <td>380 North St, Los Angeles, CA 90001</td>\n",
       "      <td>09/17/19 14:44</td>\n",
       "    </tr>\n",
       "    <tr>\n",
       "      <th>1</th>\n",
       "      <td>USB-C Charging Cable</td>\n",
       "      <td>248152</td>\n",
       "      <td>2</td>\n",
       "      <td>11.95</td>\n",
       "      <td>511 8th St, Austin, TX 73301</td>\n",
       "      <td>09/29/19 10:19</td>\n",
       "    </tr>\n",
       "    <tr>\n",
       "      <th>2</th>\n",
       "      <td>USB-C Charging Cable</td>\n",
       "      <td>248153</td>\n",
       "      <td>1</td>\n",
       "      <td>11.95</td>\n",
       "      <td>151 Johnson St, Los Angeles, CA 90001</td>\n",
       "      <td>09/16/19 17:48</td>\n",
       "    </tr>\n",
       "    <tr>\n",
       "      <th>3</th>\n",
       "      <td>27in FHD Monitor</td>\n",
       "      <td>248154</td>\n",
       "      <td>1</td>\n",
       "      <td>149.99</td>\n",
       "      <td>355 Hickory St, Seattle, WA 98101</td>\n",
       "      <td>09/27/19 07:52</td>\n",
       "    </tr>\n",
       "    <tr>\n",
       "      <th>4</th>\n",
       "      <td>USB-C Charging Cable</td>\n",
       "      <td>248155</td>\n",
       "      <td>1</td>\n",
       "      <td>11.95</td>\n",
       "      <td>125 5th St, Atlanta, GA 30301</td>\n",
       "      <td>09/01/19 19:03</td>\n",
       "    </tr>\n",
       "  </tbody>\n",
       "</table>\n",
       "</div>"
      ],
      "text/plain": [
       "                 Product order_id Quantity_ordered   price  \\\n",
       "0  AA Batteries (4-pack)   248151                4    3.84   \n",
       "1   USB-C Charging Cable   248152                2   11.95   \n",
       "2   USB-C Charging Cable   248153                1   11.95   \n",
       "3       27in FHD Monitor   248154                1  149.99   \n",
       "4   USB-C Charging Cable   248155                1   11.95   \n",
       "\n",
       "                                 address      order_date  \n",
       "0    380 North St, Los Angeles, CA 90001  09/17/19 14:44  \n",
       "1           511 8th St, Austin, TX 73301  09/29/19 10:19  \n",
       "2  151 Johnson St, Los Angeles, CA 90001  09/16/19 17:48  \n",
       "3      355 Hickory St, Seattle, WA 98101  09/27/19 07:52  \n",
       "4          125 5th St, Atlanta, GA 30301  09/01/19 19:03  "
      ]
     },
     "execution_count": 28,
     "metadata": {},
     "output_type": "execute_result"
    }
   ],
   "source": [
    "#as seen bellow,columns have been renamed succesfully\n",
    "data=pd.read_excel('combined sales data.xlsx')\n",
    "data.head()"
   ]
  },
  {
   "cell_type": "code",
   "execution_count": 31,
   "id": "005de052",
   "metadata": {},
   "outputs": [
    {
     "data": {
      "text/html": [
       "<div>\n",
       "<style scoped>\n",
       "    .dataframe tbody tr th:only-of-type {\n",
       "        vertical-align: middle;\n",
       "    }\n",
       "\n",
       "    .dataframe tbody tr th {\n",
       "        vertical-align: top;\n",
       "    }\n",
       "\n",
       "    .dataframe thead th {\n",
       "        text-align: right;\n",
       "    }\n",
       "</style>\n",
       "<table border=\"1\" class=\"dataframe\">\n",
       "  <thead>\n",
       "    <tr style=\"text-align: right;\">\n",
       "      <th></th>\n",
       "      <th>Product</th>\n",
       "      <th>order_id</th>\n",
       "      <th>Quantity_ordered</th>\n",
       "      <th>price</th>\n",
       "      <th>address</th>\n",
       "      <th>order_date</th>\n",
       "      <th>month</th>\n",
       "    </tr>\n",
       "  </thead>\n",
       "  <tbody>\n",
       "    <tr>\n",
       "      <th>0</th>\n",
       "      <td>AA Batteries (4-pack)</td>\n",
       "      <td>248151</td>\n",
       "      <td>4</td>\n",
       "      <td>3.84</td>\n",
       "      <td>380 North St, Los Angeles, CA 90001</td>\n",
       "      <td>09/17/19 14:44</td>\n",
       "      <td>09</td>\n",
       "    </tr>\n",
       "    <tr>\n",
       "      <th>1</th>\n",
       "      <td>USB-C Charging Cable</td>\n",
       "      <td>248152</td>\n",
       "      <td>2</td>\n",
       "      <td>11.95</td>\n",
       "      <td>511 8th St, Austin, TX 73301</td>\n",
       "      <td>09/29/19 10:19</td>\n",
       "      <td>09</td>\n",
       "    </tr>\n",
       "    <tr>\n",
       "      <th>2</th>\n",
       "      <td>USB-C Charging Cable</td>\n",
       "      <td>248153</td>\n",
       "      <td>1</td>\n",
       "      <td>11.95</td>\n",
       "      <td>151 Johnson St, Los Angeles, CA 90001</td>\n",
       "      <td>09/16/19 17:48</td>\n",
       "      <td>09</td>\n",
       "    </tr>\n",
       "    <tr>\n",
       "      <th>3</th>\n",
       "      <td>27in FHD Monitor</td>\n",
       "      <td>248154</td>\n",
       "      <td>1</td>\n",
       "      <td>149.99</td>\n",
       "      <td>355 Hickory St, Seattle, WA 98101</td>\n",
       "      <td>09/27/19 07:52</td>\n",
       "      <td>09</td>\n",
       "    </tr>\n",
       "    <tr>\n",
       "      <th>4</th>\n",
       "      <td>USB-C Charging Cable</td>\n",
       "      <td>248155</td>\n",
       "      <td>1</td>\n",
       "      <td>11.95</td>\n",
       "      <td>125 5th St, Atlanta, GA 30301</td>\n",
       "      <td>09/01/19 19:03</td>\n",
       "      <td>09</td>\n",
       "    </tr>\n",
       "  </tbody>\n",
       "</table>\n",
       "</div>"
      ],
      "text/plain": [
       "                 Product order_id Quantity_ordered   price  \\\n",
       "0  AA Batteries (4-pack)   248151                4    3.84   \n",
       "1   USB-C Charging Cable   248152                2   11.95   \n",
       "2   USB-C Charging Cable   248153                1   11.95   \n",
       "3       27in FHD Monitor   248154                1  149.99   \n",
       "4   USB-C Charging Cable   248155                1   11.95   \n",
       "\n",
       "                                 address      order_date month  \n",
       "0    380 North St, Los Angeles, CA 90001  09/17/19 14:44    09  \n",
       "1           511 8th St, Austin, TX 73301  09/29/19 10:19    09  \n",
       "2  151 Johnson St, Los Angeles, CA 90001  09/16/19 17:48    09  \n",
       "3      355 Hickory St, Seattle, WA 98101  09/27/19 07:52    09  \n",
       "4          125 5th St, Atlanta, GA 30301  09/01/19 19:03    09  "
      ]
     },
     "execution_count": 31,
     "metadata": {},
     "output_type": "execute_result"
    }
   ],
   "source": [
    "# now we can add ore columns \n",
    "\n",
    "#let's add months column \n",
    "data=pd.read_excel('combined sales data.xlsx')\n",
    "data['month']=data['order_date'].astype(str).apply(lambda x:x.split('/')[0])\n",
    "#let's update our dataset with the new column\n",
    "\n",
    "data.to_excel('combined sales data.xlsx',index=False)\n",
    "\n",
    "data.head()"
   ]
  },
  {
   "cell_type": "code",
   "execution_count": null,
   "id": "7be5fa27",
   "metadata": {},
   "outputs": [],
   "source": []
  }
 ],
 "metadata": {
  "kernelspec": {
   "display_name": "Python 3 (ipykernel)",
   "language": "python",
   "name": "python3"
  },
  "language_info": {
   "codemirror_mode": {
    "name": "ipython",
    "version": 3
   },
   "file_extension": ".py",
   "mimetype": "text/x-python",
   "name": "python",
   "nbconvert_exporter": "python",
   "pygments_lexer": "ipython3",
   "version": "3.11.0"
  }
 },
 "nbformat": 4,
 "nbformat_minor": 5
}
